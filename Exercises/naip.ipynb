{
 "cells": [
  {
   "cell_type": "code",
   "execution_count": null,
   "metadata": {},
   "outputs": [],
   "source": [
    "import os\n",
    "\n",
    "import matplotlib.pyplot as plt\n",
    "import numpy as np\n",
    "import rioxarray as rxr\n",
    "import geopandas as gpd\n",
    "import earthpy as et\n",
    "import earthpy.plot as ep\n",
    "import earthpy.spatial as es"
   ]
  },
  {
   "cell_type": "code",
   "execution_count": null,
   "metadata": {},
   "outputs": [],
   "source": [
    "data = et.data.get_data('cold-springs-fire')\n",
    "\n",
    "os.chdir(os.path.join(et.io.HOME, 'earth-analytics', 'data'))\n",
    "\n",
    "plt.rcParams['figure.figsize'] = (10, 10)\n",
    "plt.rcParams['axes.titlesize'] = 20"
   ]
  },
  {
   "cell_type": "code",
   "execution_count": null,
   "metadata": {},
   "outputs": [],
   "source": [
    "naip_csf_path = os.path.join(\"cold-springs-fire\", \n",
    "                             \"naip\", \n",
    "                             \"m_3910505_nw_13_1_20150919\", \n",
    "                             \"crop\", \n",
    "                             \"m_3910505_nw_13_1_20150919_crop.tif\")\n",
    "\n",
    "naip_csf = rxr.open_rasterio(naip_csf_path, masked=True)\n",
    "naip_csf"
   ]
  },
  {
   "cell_type": "code",
   "execution_count": null,
   "metadata": {},
   "outputs": [],
   "source": [
    "naip_csf.shape"
   ]
  },
  {
   "cell_type": "code",
   "execution_count": null,
   "metadata": {},
   "outputs": [],
   "source": [
    "fig, ax = plt.subplots()\n",
    "\n",
    "ax.imshow(naip_csf[0], \n",
    "          cmap=\"Greys_r\")\n",
    "ax.set_title(\"NAIP RGB Imagery Band 1 Red \\nCold Springs Fire Scar\")\n",
    "ax.set_axis_off()\n",
    "plt.show()"
   ]
  },
  {
   "cell_type": "code",
   "execution_count": null,
   "metadata": {},
   "outputs": [],
   "source": [
    "ep.plot_bands(naip_csf[0],\n",
    "              title=\"NAIP RGB Imagery - Band 1-Red\\nCold Springs Fire Scar\",\n",
    "              cbar=False)\n",
    "plt.show()"
   ]
  },
  {
   "cell_type": "code",
   "execution_count": null,
   "metadata": {},
   "outputs": [],
   "source": [
    "naip_csf.band"
   ]
  },
  {
   "cell_type": "code",
   "execution_count": null,
   "metadata": {},
   "outputs": [],
   "source": [
    "print(naip_csf.min())\n",
    "print(naip_csf.max())\n",
    "\n"
   ]
  }
 ],
 "metadata": {
  "language_info": {
   "name": "python"
  }
 },
 "nbformat": 4,
 "nbformat_minor": 2
}
